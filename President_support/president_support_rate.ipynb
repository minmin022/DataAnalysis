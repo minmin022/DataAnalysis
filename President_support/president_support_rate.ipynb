{
 "cells": [
  {
   "cell_type": "markdown",
   "metadata": {},
   "source": [
    "## 1. 数据处理"
   ]
  },
  {
   "cell_type": "code",
   "execution_count": 1,
   "metadata": {},
   "outputs": [],
   "source": [
    "import pandas as pd\n",
    "import matplotlib.pyplot as plt\n",
    "# 为了使matplotlib图形能够内联显示\n",
    "# %matplotlib inline\n",
    "# # 导入词云库\n",
    "# from wordcloud import WordCloud,ImageColorGenerator\n",
    "# 读取候选人信息，由于原始数据没有表头，需要添加表头\n",
    "candidates = pd.read_csv(\"weball20.txt\", sep = '|',names=['CAND_ID','CAND_NAME','CAND_ICI','PTY_CD','CAND_PTY_AFFILIATION','TTL_RECEIPTS',\n",
    "                                                          'TRANS_FROM_AUTH','TTL_DISB','TRANS_TO_AUTH','COH_BOP','COH_COP','CAND_CONTRIB',\n",
    "                                                          'CAND_LOANS','OTHER_LOANS','CAND_LOAN_REPAY','OTHER_LOAN_REPAY','DEBTS_OWED_BY',\n",
    "                                                          'TTL_INDIV_CONTRIB','CAND_OFFICE_ST','CAND_OFFICE_DISTRICT','SPEC_ELECTION','PRIM_ELECTION','RUN_ELECTION'\n",
    "                                                          ,'GEN_ELECTION','GEN_ELECTION_PRECENT','OTHER_POL_CMTE_CONTRIB','POL_PTY_CONTRIB',\n",
    "                                                          'CVG_END_DT','INDIV_REFUNDS','CMTE_REFUNDS'])\n",
    "# 读取候选人和委员会的信息\n",
    "ccl = pd.read_csv(\"ccl.txt\", sep = '|',names=['CAND_ID','CAND_ELECTION_YR','FEC_ELECTION_YR','CMTE_ID','CMTE_TP','CMTE_DSGN','LINKAGE_ID'])\n"
   ]
  },
  {
   "cell_type": "markdown",
   "metadata": {},
   "source": [
    "### 1.1 关联多表"
   ]
  },
  {
   "cell_type": "code",
   "execution_count": 2,
   "metadata": {},
   "outputs": [
    {
     "data": {
      "text/html": [
       "<div>\n",
       "<style scoped>\n",
       "    .dataframe tbody tr th:only-of-type {\n",
       "        vertical-align: middle;\n",
       "    }\n",
       "\n",
       "    .dataframe tbody tr th {\n",
       "        vertical-align: top;\n",
       "    }\n",
       "\n",
       "    .dataframe thead th {\n",
       "        text-align: right;\n",
       "    }\n",
       "</style>\n",
       "<table border=\"1\" class=\"dataframe\">\n",
       "  <thead>\n",
       "    <tr style=\"text-align: right;\">\n",
       "      <th></th>\n",
       "      <th>CMTE_ID</th>\n",
       "      <th>CAND_ID</th>\n",
       "      <th>CAND_NAME</th>\n",
       "      <th>CAND_PTY_AFFILIATION</th>\n",
       "    </tr>\n",
       "  </thead>\n",
       "  <tbody>\n",
       "    <tr>\n",
       "      <th>0</th>\n",
       "      <td>C00697789</td>\n",
       "      <td>H0AL01055</td>\n",
       "      <td>CARL, JERRY LEE, JR</td>\n",
       "      <td>REP</td>\n",
       "    </tr>\n",
       "    <tr>\n",
       "      <th>1</th>\n",
       "      <td>C00701557</td>\n",
       "      <td>H0AL01063</td>\n",
       "      <td>LAMBERT, DOUGLAS WESTLEY III</td>\n",
       "      <td>REP</td>\n",
       "    </tr>\n",
       "    <tr>\n",
       "      <th>2</th>\n",
       "      <td>C00701409</td>\n",
       "      <td>H0AL01071</td>\n",
       "      <td>PRINGLE, CHRISTOPHER PAUL</td>\n",
       "      <td>REP</td>\n",
       "    </tr>\n",
       "    <tr>\n",
       "      <th>3</th>\n",
       "      <td>C00703066</td>\n",
       "      <td>H0AL01089</td>\n",
       "      <td>HIGHTOWER, BILL</td>\n",
       "      <td>REP</td>\n",
       "    </tr>\n",
       "    <tr>\n",
       "      <th>4</th>\n",
       "      <td>C00708867</td>\n",
       "      <td>H0AL01097</td>\n",
       "      <td>AVERHART, JAMES</td>\n",
       "      <td>DEM</td>\n",
       "    </tr>\n",
       "    <tr>\n",
       "      <th>...</th>\n",
       "      <td>...</td>\n",
       "      <td>...</td>\n",
       "      <td>...</td>\n",
       "      <td>...</td>\n",
       "    </tr>\n",
       "    <tr>\n",
       "      <th>4356</th>\n",
       "      <td>C00674770</td>\n",
       "      <td>S8WV00143</td>\n",
       "      <td>MORRISEY, PATRICK MR</td>\n",
       "      <td>REP</td>\n",
       "    </tr>\n",
       "    <tr>\n",
       "      <th>4357</th>\n",
       "      <td>C00651075</td>\n",
       "      <td>S8WV00143</td>\n",
       "      <td>MORRISEY, PATRICK MR</td>\n",
       "      <td>REP</td>\n",
       "    </tr>\n",
       "    <tr>\n",
       "      <th>4358</th>\n",
       "      <td>C00689471</td>\n",
       "      <td>S8WV00143</td>\n",
       "      <td>MORRISEY, PATRICK MR</td>\n",
       "      <td>REP</td>\n",
       "    </tr>\n",
       "    <tr>\n",
       "      <th>4359</th>\n",
       "      <td>C00710889</td>\n",
       "      <td>S8WV00143</td>\n",
       "      <td>MORRISEY, PATRICK MR</td>\n",
       "      <td>REP</td>\n",
       "    </tr>\n",
       "    <tr>\n",
       "      <th>4360</th>\n",
       "      <td>C00417063</td>\n",
       "      <td>S8WV00143</td>\n",
       "      <td>MORRISEY, PATRICK MR</td>\n",
       "      <td>REP</td>\n",
       "    </tr>\n",
       "  </tbody>\n",
       "</table>\n",
       "<p>4361 rows × 4 columns</p>\n",
       "</div>"
      ],
      "text/plain": [
       "        CMTE_ID    CAND_ID                     CAND_NAME CAND_PTY_AFFILIATION\n",
       "0     C00697789  H0AL01055           CARL, JERRY LEE, JR                  REP\n",
       "1     C00701557  H0AL01063  LAMBERT, DOUGLAS WESTLEY III                  REP\n",
       "2     C00701409  H0AL01071     PRINGLE, CHRISTOPHER PAUL                  REP\n",
       "3     C00703066  H0AL01089               HIGHTOWER, BILL                  REP\n",
       "4     C00708867  H0AL01097               AVERHART, JAMES                  DEM\n",
       "...         ...        ...                           ...                  ...\n",
       "4356  C00674770  S8WV00143          MORRISEY, PATRICK MR                  REP\n",
       "4357  C00651075  S8WV00143          MORRISEY, PATRICK MR                  REP\n",
       "4358  C00689471  S8WV00143          MORRISEY, PATRICK MR                  REP\n",
       "4359  C00710889  S8WV00143          MORRISEY, PATRICK MR                  REP\n",
       "4360  C00417063  S8WV00143          MORRISEY, PATRICK MR                  REP\n",
       "\n",
       "[4361 rows x 4 columns]"
      ]
     },
     "execution_count": 2,
     "metadata": {},
     "output_type": "execute_result"
    }
   ],
   "source": [
    "#委员会和候选人关联\n",
    "ccl = pd.merge(ccl,candidates)\n",
    "ccl = pd.DataFrame(ccl, columns=[ 'CMTE_ID','CAND_ID', 'CAND_NAME','CAND_PTY_AFFILIATION'])\n",
    "ccl"
   ]
  },
  {
   "cell_type": "code",
   "execution_count": null,
   "metadata": {},
   "outputs": [
    {
     "name": "stderr",
     "output_type": "stream",
     "text": [
      "/opt/conda/lib/python3.6/site-packages/IPython/core/interactiveshell.py:3058: DtypeWarning: Columns (10,15,16,18) have mixed types.Specify dtype option on import or set low_memory=False.\n",
      "  interactivity=interactivity, compiler=compiler, result=result)\n"
     ]
    }
   ],
   "source": [
    "# 读取个人捐赠数据，由于原始数据没有表头，需要添加表头\n",
    "itcont = pd.read_csv('itcont_2020_20200722_20200820.txt', sep='|',names=['CMTE_ID','AMNDT_IND','RPT_TP','TRANSACTION_PGI',\n",
    "                                                                                  'IMAGE_NUM','TRANSACTION_TP','ENTITY_TP','NAME','CITY',\n",
    "                                                                                  'STATE','ZIP_CODE','EMPLOYER','OCCUPATION','TRANSACTION_DT',\n",
    "                                                                                  'TRANSACTION_AMT','OTHER_ID','TRAN_ID','FILE_NUM','MEMO_CD',\n",
    "                                                                                  'MEMO_TEXT','SUB_ID'])"
   ]
  },
  {
   "cell_type": "code",
   "execution_count": 4,
   "metadata": {},
   "outputs": [
    {
     "data": {
      "text/plain": [
       "'\\nCAND_NAME – 接受捐赠的候选人姓名\\nNAME – 捐赠人姓名\\nSTATE – 捐赠人所在州\\nEMPLOYER – 捐赠人所在公司\\nOCCUPATION – 捐赠人职业\\nTRANSACTION_AMT – 捐赠数额（美元）\\nTRANSACTION_DT – 收到捐款的日期\\nCAND_PTY_AFFILIATION – 候选人党派\\n'"
      ]
     },
     "execution_count": 4,
     "metadata": {},
     "output_type": "execute_result"
    }
   ],
   "source": [
    "c_itcont = pd.merge(ccl,itcont)\n",
    "c_itcont = pd.DataFrame(c_itcont, columns=[ 'CAND_NAME','NAME', 'STATE','EMPLOYER','OCCUPATION',\n",
    "                                           'TRANSACTION_AMT', 'TRANSACTION_DT','CAND_PTY_AFFILIATION'])\n",
    "\"\"\"\n",
    "CAND_NAME – 接受捐赠的候选人姓名\n",
    "NAME – 捐赠人姓名\n",
    "STATE – 捐赠人所在州\n",
    "EMPLOYER – 捐赠人所在公司\n",
    "OCCUPATION – 捐赠人职业\n",
    "TRANSACTION_AMT – 捐赠数额（美元）\n",
    "TRANSACTION_DT – 收到捐款的日期\n",
    "CAND_PTY_AFFILIATION – 候选人党派\n",
    "\"\"\""
   ]
  },
  {
   "cell_type": "markdown",
   "metadata": {},
   "source": [
    "### 1.2 查看基本信息 "
   ]
  },
  {
   "cell_type": "code",
   "execution_count": 5,
   "metadata": {},
   "outputs": [
    {
     "data": {
      "text/html": [
       "<div>\n",
       "<style scoped>\n",
       "    .dataframe tbody tr th:only-of-type {\n",
       "        vertical-align: middle;\n",
       "    }\n",
       "\n",
       "    .dataframe tbody tr th {\n",
       "        vertical-align: top;\n",
       "    }\n",
       "\n",
       "    .dataframe thead th {\n",
       "        text-align: right;\n",
       "    }\n",
       "</style>\n",
       "<table border=\"1\" class=\"dataframe\">\n",
       "  <thead>\n",
       "    <tr style=\"text-align: right;\">\n",
       "      <th></th>\n",
       "      <th>CAND_NAME</th>\n",
       "      <th>NAME</th>\n",
       "      <th>STATE</th>\n",
       "      <th>EMPLOYER</th>\n",
       "      <th>OCCUPATION</th>\n",
       "      <th>TRANSACTION_AMT</th>\n",
       "      <th>TRANSACTION_DT</th>\n",
       "      <th>CAND_PTY_AFFILIATION</th>\n",
       "    </tr>\n",
       "  </thead>\n",
       "  <tbody>\n",
       "    <tr>\n",
       "      <th>0</th>\n",
       "      <td>MORGAN, JOSEPH DAVID</td>\n",
       "      <td>MARTIN, WILLIAM II</td>\n",
       "      <td>AZ</td>\n",
       "      <td>RETIRED</td>\n",
       "      <td>RETIRED</td>\n",
       "      <td>100</td>\n",
       "      <td>7242020</td>\n",
       "      <td>REP</td>\n",
       "    </tr>\n",
       "    <tr>\n",
       "      <th>1</th>\n",
       "      <td>MORGAN, JOSEPH DAVID</td>\n",
       "      <td>RODRIGUEZ, GERARDO</td>\n",
       "      <td>AZ</td>\n",
       "      <td>VA HOSPITAL</td>\n",
       "      <td>LAB TECH</td>\n",
       "      <td>40</td>\n",
       "      <td>7242020</td>\n",
       "      <td>REP</td>\n",
       "    </tr>\n",
       "    <tr>\n",
       "      <th>2</th>\n",
       "      <td>MORGAN, JOSEPH DAVID</td>\n",
       "      <td>RODRIGUEZ, GERARDO</td>\n",
       "      <td>AZ</td>\n",
       "      <td>VA HOSPITAL</td>\n",
       "      <td>LAB TECH</td>\n",
       "      <td>40</td>\n",
       "      <td>7312020</td>\n",
       "      <td>REP</td>\n",
       "    </tr>\n",
       "    <tr>\n",
       "      <th>3</th>\n",
       "      <td>WOOD, DANIEL</td>\n",
       "      <td>HOPKINS, RICHARD</td>\n",
       "      <td>AZ</td>\n",
       "      <td>POWERS-LEAVITT</td>\n",
       "      <td>INSURANCE AGENT</td>\n",
       "      <td>300</td>\n",
       "      <td>8102020</td>\n",
       "      <td>REP</td>\n",
       "    </tr>\n",
       "    <tr>\n",
       "      <th>4</th>\n",
       "      <td>WOOD, DANIEL</td>\n",
       "      <td>PENDLETON, DIANE</td>\n",
       "      <td>AZ</td>\n",
       "      <td>UNEMPLOYED</td>\n",
       "      <td>NaN</td>\n",
       "      <td>500</td>\n",
       "      <td>8072020</td>\n",
       "      <td>REP</td>\n",
       "    </tr>\n",
       "  </tbody>\n",
       "</table>\n",
       "</div>"
      ],
      "text/plain": [
       "              CAND_NAME                NAME STATE        EMPLOYER  \\\n",
       "0  MORGAN, JOSEPH DAVID  MARTIN, WILLIAM II    AZ         RETIRED   \n",
       "1  MORGAN, JOSEPH DAVID  RODRIGUEZ, GERARDO    AZ     VA HOSPITAL   \n",
       "2  MORGAN, JOSEPH DAVID  RODRIGUEZ, GERARDO    AZ     VA HOSPITAL   \n",
       "3          WOOD, DANIEL    HOPKINS, RICHARD    AZ  POWERS-LEAVITT   \n",
       "4          WOOD, DANIEL    PENDLETON, DIANE    AZ      UNEMPLOYED   \n",
       "\n",
       "        OCCUPATION  TRANSACTION_AMT  TRANSACTION_DT CAND_PTY_AFFILIATION  \n",
       "0          RETIRED              100         7242020                  REP  \n",
       "1         LAB TECH               40         7242020                  REP  \n",
       "2         LAB TECH               40         7312020                  REP  \n",
       "3  INSURANCE AGENT              300         8102020                  REP  \n",
       "4              NaN              500         8072020                  REP  "
      ]
     },
     "execution_count": 5,
     "metadata": {},
     "output_type": "execute_result"
    }
   ],
   "source": [
    "c_itcont.head()"
   ]
  },
  {
   "cell_type": "code",
   "execution_count": 6,
   "metadata": {},
   "outputs": [
    {
     "name": "stdout",
     "output_type": "stream",
     "text": [
      "<class 'pandas.core.frame.DataFrame'>\n",
      "Int64Index: 756205 entries, 0 to 756204\n",
      "Data columns (total 8 columns):\n",
      " #   Column                Non-Null Count   Dtype \n",
      "---  ------                --------------   ----- \n",
      " 0   CAND_NAME             756205 non-null  object\n",
      " 1   NAME                  756205 non-null  object\n",
      " 2   STATE                 756160 non-null  object\n",
      " 3   EMPLOYER              737413 non-null  object\n",
      " 4   OCCUPATION            741294 non-null  object\n",
      " 5   TRANSACTION_AMT       756205 non-null  int64 \n",
      " 6   TRANSACTION_DT        756205 non-null  int64 \n",
      " 7   CAND_PTY_AFFILIATION  756205 non-null  object\n",
      "dtypes: int64(2), object(6)\n",
      "memory usage: 51.9+ MB\n"
     ]
    }
   ],
   "source": [
    "c_itcont.info()\n",
    "#1. 由上表可知，SATE,EMPLOYER,OCCUPATION数据均有缺失，因此后续对SATE,EMPLOYER,OCCUPATION缺失值进行处理。"
   ]
  },
  {
   "cell_type": "code",
   "execution_count": 7,
   "metadata": {},
   "outputs": [
    {
     "data": {
      "text/plain": [
       "(756205, 8)"
      ]
     },
     "execution_count": 7,
     "metadata": {},
     "output_type": "execute_result"
    }
   ],
   "source": [
    "c_itcont.shape"
   ]
  },
  {
   "cell_type": "code",
   "execution_count": 8,
   "metadata": {},
   "outputs": [
    {
     "data": {
      "text/plain": [
       "CAND_NAME               0.000000\n",
       "NAME                    0.000000\n",
       "STATE                   0.000060\n",
       "EMPLOYER                0.024850\n",
       "OCCUPATION              0.019718\n",
       "TRANSACTION_AMT         0.000000\n",
       "TRANSACTION_DT          0.000000\n",
       "CAND_PTY_AFFILIATION    0.000000\n",
       "dtype: float64"
      ]
     },
     "execution_count": 8,
     "metadata": {},
     "output_type": "execute_result"
    }
   ],
   "source": [
    "c_itcont.isnull().mean()\n",
    "# 'EMPLOYER'缺失量最大"
   ]
  },
  {
   "cell_type": "code",
   "execution_count": 9,
   "metadata": {},
   "outputs": [
    {
     "name": "stdout",
     "output_type": "stream",
     "text": [
      "NOT EMPLOYED                227547\n",
      "RETIRED                     147714\n",
      "SELF-EMPLOYED                50797\n",
      "SELF                          6109\n",
      "SELF EMPLOYED                 5120\n",
      "                             ...  \n",
      "CLARK NUBER                      1\n",
      "SWITCHBACK TRAVEL LLC            1\n",
      "THE DAVIS GROUP                  1\n",
      "LANDSCAPE STRUCTURES             1\n",
      "RALEIGH ARCHITECTURE CO.         1\n",
      "Name: EMPLOYER, Length: 93604, dtype: int64\n",
      "NOT EMPLOYED                         224109\n",
      "RETIRED                              151834\n",
      "ATTORNEY                              19666\n",
      "PHYSICIAN                             14033\n",
      "CONSULTANT                             8333\n",
      "                                      ...  \n",
      "PLATFORM ARCHITECT                        1\n",
      "RETIRED SECONDARY TEACHER                 1\n",
      "TRIBAL COLLEGE EXEC. DIRECTOR             1\n",
      "CLINICAL SOCIAL WORKER AND EDITOR         1\n",
      "FARMER/INVESTOR                           1\n",
      "Name: OCCUPATION, Length: 26497, dtype: int64\n"
     ]
    }
   ],
   "source": [
    "print(c_itcont['EMPLOYER'].value_counts())\n",
    "print(c_itcont['OCCUPATION'].value_counts())\n",
    "# 2.OCCUPATION和EMPLOYER的对应数据有矛盾和重复，对其进行口径统一\n",
    "# 3.对EMPLOYER(雇主)进行分析，部分职业一致(如self，self-occupation，self occupation)，由于命名差异，导致拆分统计，后续需要对该类数据进行合并。"
   ]
  },
  {
   "cell_type": "code",
   "execution_count": 10,
   "metadata": {},
   "outputs": [
    {
     "data": {
      "text/plain": [
       "EMPLOYER      OCCUPATION                         \n",
       "NOT EMPLOYED  NOT EMPLOYED                           220903\n",
       "              RETIRED                                  4765\n",
       "              SELF EMPLOYED                             161\n",
       "              HOMEMAKER                                 121\n",
       "              SELF-EMPLOYED                              98\n",
       "                                                      ...  \n",
       "              REGISTERED NURSE/STUDENT                    1\n",
       "              FORMER DIRECTOR OF CLIENT RELATIONS         1\n",
       "              FORMER EDITORIAL ASSISTANT                  1\n",
       "              MIDWIFE                                     1\n",
       "              ACCOUNT MANAGER                             1\n",
       "Length: 287, dtype: int64"
      ]
     },
     "execution_count": 10,
     "metadata": {},
     "output_type": "execute_result"
    }
   ],
   "source": [
    "c_itcont[c_itcont['EMPLOYER']=='NOT EMPLOYED'][['EMPLOYER','OCCUPATION']].value_counts()\n",
    "# 2.EMPLOYER和OCCUPATION数据矛盾，e.g. EMPLOYER中NOT EMPOLYER涵盖了多种OCCUPATION,需要统一OCCUPATION"
   ]
  },
  {
   "cell_type": "markdown",
   "metadata": {},
   "source": [
    "#### 通过数据统计发现的问题：\n",
    "1. 由上表可知，SATE,EMPLOYER,OCCUPATION数据均有缺失，因此后续对SATE,EMPLOYER,OCCUPATION缺失值进行处理。\n",
    "2. 对EMPLOYER(职业)进行分析，'NOT EMPLOYED'是EMPLOYER列出现频次最大的，共227547次，其次是'RETIRED'(退休)，共147714次；而对OCCUPATION(职业)进行分析，'NOT EMPLOYED'是OCCUPATION列出现频次最大的，共224109次，其次是'RETIRED'(退休)，共151834次；OCCUPATION和EMPLOYER的对应数据有矛盾和重复，对其进行口径统一\n",
    "3. 对EMPLOYER(雇主)进行分析，部分职业一致(如self，self-occupation，self occupation)，由于命名差异，导致拆分统计，后续需要对该类数据进行合并。\n"
   ]
  },
  {
   "cell_type": "markdown",
   "metadata": {},
   "source": [
    "## 2. 数据清洗"
   ]
  },
  {
   "cell_type": "markdown",
   "metadata": {},
   "source": [
    "### 2.1 填充空值"
   ]
  },
  {
   "cell_type": "code",
   "execution_count": 11,
   "metadata": {},
   "outputs": [
    {
     "data": {
      "text/html": [
       "<div>\n",
       "<style scoped>\n",
       "    .dataframe tbody tr th:only-of-type {\n",
       "        vertical-align: middle;\n",
       "    }\n",
       "\n",
       "    .dataframe tbody tr th {\n",
       "        vertical-align: top;\n",
       "    }\n",
       "\n",
       "    .dataframe thead th {\n",
       "        text-align: right;\n",
       "    }\n",
       "</style>\n",
       "<table border=\"1\" class=\"dataframe\">\n",
       "  <thead>\n",
       "    <tr style=\"text-align: right;\">\n",
       "      <th></th>\n",
       "      <th>CAND_NAME</th>\n",
       "      <th>NAME</th>\n",
       "      <th>STATE</th>\n",
       "      <th>EMPLOYER</th>\n",
       "      <th>OCCUPATION</th>\n",
       "      <th>TRANSACTION_AMT</th>\n",
       "      <th>TRANSACTION_DT</th>\n",
       "      <th>CAND_PTY_AFFILIATION</th>\n",
       "    </tr>\n",
       "  </thead>\n",
       "  <tbody>\n",
       "    <tr>\n",
       "      <th>0</th>\n",
       "      <td>MORGAN, JOSEPH DAVID</td>\n",
       "      <td>MARTIN, WILLIAM II</td>\n",
       "      <td>AZ</td>\n",
       "      <td>RETIRED</td>\n",
       "      <td>RETIRED</td>\n",
       "      <td>100</td>\n",
       "      <td>7242020</td>\n",
       "      <td>REP</td>\n",
       "    </tr>\n",
       "    <tr>\n",
       "      <th>1</th>\n",
       "      <td>MORGAN, JOSEPH DAVID</td>\n",
       "      <td>RODRIGUEZ, GERARDO</td>\n",
       "      <td>AZ</td>\n",
       "      <td>VA HOSPITAL</td>\n",
       "      <td>LAB TECH</td>\n",
       "      <td>40</td>\n",
       "      <td>7242020</td>\n",
       "      <td>REP</td>\n",
       "    </tr>\n",
       "    <tr>\n",
       "      <th>2</th>\n",
       "      <td>MORGAN, JOSEPH DAVID</td>\n",
       "      <td>RODRIGUEZ, GERARDO</td>\n",
       "      <td>AZ</td>\n",
       "      <td>VA HOSPITAL</td>\n",
       "      <td>LAB TECH</td>\n",
       "      <td>40</td>\n",
       "      <td>7312020</td>\n",
       "      <td>REP</td>\n",
       "    </tr>\n",
       "    <tr>\n",
       "      <th>3</th>\n",
       "      <td>WOOD, DANIEL</td>\n",
       "      <td>HOPKINS, RICHARD</td>\n",
       "      <td>AZ</td>\n",
       "      <td>POWERS-LEAVITT</td>\n",
       "      <td>INSURANCE AGENT</td>\n",
       "      <td>300</td>\n",
       "      <td>8102020</td>\n",
       "      <td>REP</td>\n",
       "    </tr>\n",
       "    <tr>\n",
       "      <th>4</th>\n",
       "      <td>WOOD, DANIEL</td>\n",
       "      <td>PENDLETON, DIANE</td>\n",
       "      <td>AZ</td>\n",
       "      <td>UNEMPLOYED</td>\n",
       "      <td>NOT PROVIDED</td>\n",
       "      <td>500</td>\n",
       "      <td>8072020</td>\n",
       "      <td>REP</td>\n",
       "    </tr>\n",
       "    <tr>\n",
       "      <th>...</th>\n",
       "      <td>...</td>\n",
       "      <td>...</td>\n",
       "      <td>...</td>\n",
       "      <td>...</td>\n",
       "      <td>...</td>\n",
       "      <td>...</td>\n",
       "      <td>...</td>\n",
       "      <td>...</td>\n",
       "    </tr>\n",
       "    <tr>\n",
       "      <th>756200</th>\n",
       "      <td>MORRISEY, PATRICK MR</td>\n",
       "      <td>HOWELL, TRESA MRS.</td>\n",
       "      <td>WV</td>\n",
       "      <td>NOT PROVIDED</td>\n",
       "      <td>NOT PROVIDED</td>\n",
       "      <td>500</td>\n",
       "      <td>8152020</td>\n",
       "      <td>REP</td>\n",
       "    </tr>\n",
       "    <tr>\n",
       "      <th>756201</th>\n",
       "      <td>MORRISEY, PATRICK MR</td>\n",
       "      <td>LEWIS, VERONICA MS.</td>\n",
       "      <td>WV</td>\n",
       "      <td>NOT PROVIDED</td>\n",
       "      <td>NOT PROVIDED</td>\n",
       "      <td>200</td>\n",
       "      <td>8022020</td>\n",
       "      <td>REP</td>\n",
       "    </tr>\n",
       "    <tr>\n",
       "      <th>756202</th>\n",
       "      <td>MORRISEY, PATRICK MR</td>\n",
       "      <td>MILLER, MATT F MR.</td>\n",
       "      <td>WV</td>\n",
       "      <td>DUTCH MILLER CHEVROLET</td>\n",
       "      <td>AUTO DEALER</td>\n",
       "      <td>2500</td>\n",
       "      <td>8032020</td>\n",
       "      <td>REP</td>\n",
       "    </tr>\n",
       "    <tr>\n",
       "      <th>756203</th>\n",
       "      <td>MORRISEY, PATRICK MR</td>\n",
       "      <td>POTTER, MELODY L MRS.</td>\n",
       "      <td>WV</td>\n",
       "      <td>TRI-STAR COAL SALES CO.</td>\n",
       "      <td>BUSINESS OWNER</td>\n",
       "      <td>100</td>\n",
       "      <td>8032020</td>\n",
       "      <td>REP</td>\n",
       "    </tr>\n",
       "    <tr>\n",
       "      <th>756204</th>\n",
       "      <td>MORRISEY, PATRICK MR</td>\n",
       "      <td>REXROAD, LEWIS H MR.</td>\n",
       "      <td>WV</td>\n",
       "      <td>RETIRED</td>\n",
       "      <td>RETIRED</td>\n",
       "      <td>500</td>\n",
       "      <td>8042020</td>\n",
       "      <td>REP</td>\n",
       "    </tr>\n",
       "  </tbody>\n",
       "</table>\n",
       "<p>756205 rows × 8 columns</p>\n",
       "</div>"
      ],
      "text/plain": [
       "                   CAND_NAME                   NAME STATE  \\\n",
       "0       MORGAN, JOSEPH DAVID     MARTIN, WILLIAM II    AZ   \n",
       "1       MORGAN, JOSEPH DAVID     RODRIGUEZ, GERARDO    AZ   \n",
       "2       MORGAN, JOSEPH DAVID     RODRIGUEZ, GERARDO    AZ   \n",
       "3               WOOD, DANIEL       HOPKINS, RICHARD    AZ   \n",
       "4               WOOD, DANIEL       PENDLETON, DIANE    AZ   \n",
       "...                      ...                    ...   ...   \n",
       "756200  MORRISEY, PATRICK MR     HOWELL, TRESA MRS.    WV   \n",
       "756201  MORRISEY, PATRICK MR    LEWIS, VERONICA MS.    WV   \n",
       "756202  MORRISEY, PATRICK MR     MILLER, MATT F MR.    WV   \n",
       "756203  MORRISEY, PATRICK MR  POTTER, MELODY L MRS.    WV   \n",
       "756204  MORRISEY, PATRICK MR   REXROAD, LEWIS H MR.    WV   \n",
       "\n",
       "                       EMPLOYER       OCCUPATION  TRANSACTION_AMT  \\\n",
       "0                       RETIRED          RETIRED              100   \n",
       "1                   VA HOSPITAL         LAB TECH               40   \n",
       "2                   VA HOSPITAL         LAB TECH               40   \n",
       "3                POWERS-LEAVITT  INSURANCE AGENT              300   \n",
       "4                    UNEMPLOYED     NOT PROVIDED              500   \n",
       "...                         ...              ...              ...   \n",
       "756200             NOT PROVIDED     NOT PROVIDED              500   \n",
       "756201             NOT PROVIDED     NOT PROVIDED              200   \n",
       "756202   DUTCH MILLER CHEVROLET      AUTO DEALER             2500   \n",
       "756203  TRI-STAR COAL SALES CO.   BUSINESS OWNER              100   \n",
       "756204                  RETIRED          RETIRED              500   \n",
       "\n",
       "        TRANSACTION_DT CAND_PTY_AFFILIATION  \n",
       "0              7242020                  REP  \n",
       "1              7242020                  REP  \n",
       "2              7312020                  REP  \n",
       "3              8102020                  REP  \n",
       "4              8072020                  REP  \n",
       "...                ...                  ...  \n",
       "756200         8152020                  REP  \n",
       "756201         8022020                  REP  \n",
       "756202         8032020                  REP  \n",
       "756203         8032020                  REP  \n",
       "756204         8042020                  REP  \n",
       "\n",
       "[756205 rows x 8 columns]"
      ]
     },
     "execution_count": 11,
     "metadata": {},
     "output_type": "execute_result"
    }
   ],
   "source": [
    "# 1. 空值处理\n",
    "c_itcont['STATE'].fillna(value='NOT PROVIDED',inplace=True)\n",
    "c_itcont['EMPLOYER'].fillna(value='NOT PROVIDED',inplace=True)\n",
    "c_itcont['OCCUPATION'].fillna(value='NOT PROVIDED',inplace=True)\n",
    "c_itcont\n",
    "    "
   ]
  },
  {
   "cell_type": "markdown",
   "metadata": {},
   "source": [
    "### 2.2 统一职业口径"
   ]
  },
  {
   "cell_type": "code",
   "execution_count": 12,
   "metadata": {},
   "outputs": [
    {
     "data": {
      "text/plain": [
       "NOT EMPLOYED                227547\n",
       "RETIRED                     147714\n",
       "SELF EMPLOYED                62026\n",
       "NOT PROVIDED                 18792\n",
       "NONE                          2590\n",
       "                             ...  \n",
       "SWITCHBACK TRAVEL LLC            1\n",
       "THE DAVIS GROUP                  1\n",
       "LANDSCAPE STRUCTURES             1\n",
       "BIOSTAT INC.                     1\n",
       "RALEIGH ARCHITECTURE CO.         1\n",
       "Name: EMPLOYER, Length: 93603, dtype: int64"
      ]
     },
     "execution_count": 12,
     "metadata": {},
     "output_type": "execute_result"
    }
   ],
   "source": [
    "# 3. 相同employer（雇主）类型合并\n",
    "s1 = c_itcont['EMPLOYER']\n",
    "cons1 = s1=='SELF-EMPLOYED'\n",
    "cons2 = s1=='SELF'\n",
    "c_itcont['EMPLOYER'] = s1.mask(cons1|cons2,'SELF EMPLOYED')  #对满足条件的行进行替换\n",
    "c_itcont['EMPLOYER'].value_counts()"
   ]
  },
  {
   "cell_type": "code",
   "execution_count": 13,
   "metadata": {},
   "outputs": [],
   "source": [
    "# 2.EMPLOYER和OCCUPATION数据矛盾，e.g. EMPLOYER中NOT EMPOLYER涵盖了多种OCCUPATION,需要统一OCCUPATION\n",
    "# 除occupation为retired的外，所有employer为not employed的数据，occupation统一为not employed\n",
    "c_itcont['OCCUPATION']=c_itcont['OCCUPATION'].mask((c_itcont['EMPLOYER']=='NOT EMPLOYED') & (c_itcont['OCCUPATION']!='RETIRED'),'NOT EMPLOYED')\n",
    "c_itcont['OCCUPATION']=c_itcont['OCCUPATION'].mask(c_itcont['EMPLOYER']=='RETIRED','RETIRED')"
   ]
  },
  {
   "cell_type": "code",
   "execution_count": 14,
   "metadata": {},
   "outputs": [
    {
     "name": "stdout",
     "output_type": "stream",
     "text": [
      "EMPLOYER      OCCUPATION  \n",
      "NOT EMPLOYED  NOT EMPLOYED    222782\n",
      "              RETIRED           4765\n",
      "dtype: int64\n",
      "EMPLOYER  OCCUPATION\n",
      "RETIRED   RETIRED       147714\n",
      "dtype: int64\n"
     ]
    }
   ],
   "source": [
    "# 2. 处理后验证\n",
    "print(c_itcont[c_itcont['EMPLOYER']=='NOT EMPLOYED'][['EMPLOYER','OCCUPATION']].value_counts())\n",
    "print(c_itcont[c_itcont['EMPLOYER']=='RETIRED'][['EMPLOYER','OCCUPATION']].value_counts())"
   ]
  },
  {
   "cell_type": "code",
   "execution_count": 15,
   "metadata": {},
   "outputs": [
    {
     "name": "stdout",
     "output_type": "stream",
     "text": [
      "NOT EMPLOYED                227547\n",
      "RETIRED                     147714\n",
      "SELF EMPLOYED                62026\n",
      "NOT PROVIDED                 18792\n",
      "NONE                          2590\n",
      "                             ...  \n",
      "SWITCHBACK TRAVEL LLC            1\n",
      "THE DAVIS GROUP                  1\n",
      "LANDSCAPE STRUCTURES             1\n",
      "BIOSTAT INC.                     1\n",
      "RALEIGH ARCHITECTURE CO.         1\n",
      "Name: EMPLOYER, Length: 93603, dtype: int64\n",
      "NOT EMPLOYED                 225807\n",
      "RETIRED                      156591\n",
      "ATTORNEY                      19297\n",
      "NOT PROVIDED                  14816\n",
      "PHYSICIAN                     13864\n",
      "                              ...  \n",
      "TRANSACTIONS ANALYST              1\n",
      "GALLERY COORDINATOR               1\n",
      "REAL ESTATE TITLE AGENT           1\n",
      "AUTO COLLISION SHOP OWNER         1\n",
      "FARMER/INVESTOR                   1\n",
      "Name: OCCUPATION, Length: 26069, dtype: int64\n"
     ]
    }
   ],
   "source": [
    "# 处理后EMPLOYER和OCCUPATION的数据概览\n",
    "print(c_itcont['EMPLOYER'].value_counts())\n",
    "print(c_itcont['OCCUPATION'].value_counts())"
   ]
  },
  {
   "cell_type": "markdown",
   "metadata": {},
   "source": [
    "### 2.3 修改日期类型"
   ]
  },
  {
   "cell_type": "code",
   "execution_count": 16,
   "metadata": {},
   "outputs": [],
   "source": [
    "# ‘日期’列数据类型改为str，格式改为'2020822'常见形式\n",
    "c_itcont['TRANSACTION_DT']=c_itcont['TRANSACTION_DT'].astype(str)\n",
    "c_itcont['TRANSACTION_DT']=[ i[3:]+i[0]+i[1:3] for i in c_itcont['TRANSACTION_DT']]"
   ]
  },
  {
   "cell_type": "markdown",
   "metadata": {},
   "source": [
    "### 2.4 验证数据"
   ]
  },
  {
   "cell_type": "code",
   "execution_count": 17,
   "metadata": {},
   "outputs": [
    {
     "name": "stdout",
     "output_type": "stream",
     "text": [
      "<class 'pandas.core.frame.DataFrame'>\n",
      "Int64Index: 756205 entries, 0 to 756204\n",
      "Data columns (total 8 columns):\n",
      " #   Column                Non-Null Count   Dtype \n",
      "---  ------                --------------   ----- \n",
      " 0   CAND_NAME             756205 non-null  object\n",
      " 1   NAME                  756205 non-null  object\n",
      " 2   STATE                 756205 non-null  object\n",
      " 3   EMPLOYER              756205 non-null  object\n",
      " 4   OCCUPATION            756205 non-null  object\n",
      " 5   TRANSACTION_AMT       756205 non-null  int64 \n",
      " 6   TRANSACTION_DT        756205 non-null  object\n",
      " 7   CAND_PTY_AFFILIATION  756205 non-null  object\n",
      "dtypes: int64(1), object(7)\n",
      "memory usage: 51.9+ MB\n"
     ]
    }
   ],
   "source": [
    "c_itcont.info()"
   ]
  },
  {
   "cell_type": "code",
   "execution_count": 18,
   "metadata": {},
   "outputs": [
    {
     "data": {
      "text/plain": [
       "count                 756205\n",
       "unique                   312\n",
       "top       BIDEN, JOSEPH R JR\n",
       "freq                  507816\n",
       "Name: CAND_NAME, dtype: object"
      ]
     },
     "execution_count": 18,
     "metadata": {},
     "output_type": "execute_result"
    }
   ],
   "source": [
    "c_itcont['CAND_NAME'].describe()"
   ]
  },
  {
   "cell_type": "markdown",
   "metadata": {},
   "source": [
    "## 3. 数据分析"
   ]
  },
  {
   "cell_type": "markdown",
   "metadata": {},
   "source": [
    "### 3.1 党派和候选人角度"
   ]
  },
  {
   "cell_type": "code",
   "execution_count": 19,
   "metadata": {},
   "outputs": [
    {
     "data": {
      "text/html": [
       "<div>\n",
       "<style scoped>\n",
       "    .dataframe tbody tr th:only-of-type {\n",
       "        vertical-align: middle;\n",
       "    }\n",
       "\n",
       "    .dataframe tbody tr th {\n",
       "        vertical-align: top;\n",
       "    }\n",
       "\n",
       "    .dataframe thead th {\n",
       "        text-align: right;\n",
       "    }\n",
       "</style>\n",
       "<table border=\"1\" class=\"dataframe\">\n",
       "  <thead>\n",
       "    <tr style=\"text-align: right;\">\n",
       "      <th></th>\n",
       "      <th></th>\n",
       "      <th>TRANSACTION_AMT</th>\n",
       "      <th>TRANS_CAND_PERCERNT</th>\n",
       "    </tr>\n",
       "    <tr>\n",
       "      <th>CAND_PTY_AFFILIATION</th>\n",
       "      <th>CAND_NAME</th>\n",
       "      <th></th>\n",
       "      <th></th>\n",
       "    </tr>\n",
       "  </thead>\n",
       "  <tbody>\n",
       "    <tr>\n",
       "      <th>DEM</th>\n",
       "      <th>BIDEN, JOSEPH R JR</th>\n",
       "      <td>68111142</td>\n",
       "      <td>63.54%</td>\n",
       "    </tr>\n",
       "    <tr>\n",
       "      <th rowspan=\"3\" valign=\"top\">REP</th>\n",
       "      <th>TRUMP, DONALD J.</th>\n",
       "      <td>16594982</td>\n",
       "      <td>15.48%</td>\n",
       "    </tr>\n",
       "    <tr>\n",
       "      <th>SULLIVAN, DAN</th>\n",
       "      <td>9912465</td>\n",
       "      <td>9.25%</td>\n",
       "    </tr>\n",
       "    <tr>\n",
       "      <th>JACOBS, CHRISTOPHER L.</th>\n",
       "      <td>6939209</td>\n",
       "      <td>6.47%</td>\n",
       "    </tr>\n",
       "    <tr>\n",
       "      <th rowspan=\"4\" valign=\"top\">DEM</th>\n",
       "      <th>BLOOMBERG, MICHAEL R.</th>\n",
       "      <td>3451916</td>\n",
       "      <td>3.22%</td>\n",
       "    </tr>\n",
       "    <tr>\n",
       "      <th>MARKEY, EDWARD J. SEN.</th>\n",
       "      <td>606832</td>\n",
       "      <td>0.57%</td>\n",
       "    </tr>\n",
       "    <tr>\n",
       "      <th>SHAHEEN, JEANNE</th>\n",
       "      <td>505446</td>\n",
       "      <td>0.47%</td>\n",
       "    </tr>\n",
       "    <tr>\n",
       "      <th>KENNEDY, JOSEPH P III</th>\n",
       "      <td>467738</td>\n",
       "      <td>0.44%</td>\n",
       "    </tr>\n",
       "    <tr>\n",
       "      <th rowspan=\"2\" valign=\"top\">REP</th>\n",
       "      <th>CORNYN, JOHN SEN</th>\n",
       "      <td>345959</td>\n",
       "      <td>0.32%</td>\n",
       "    </tr>\n",
       "    <tr>\n",
       "      <th>FIGLESTHALER, WILLIAM MATTHEW MD</th>\n",
       "      <td>258221</td>\n",
       "      <td>0.24%</td>\n",
       "    </tr>\n",
       "  </tbody>\n",
       "</table>\n",
       "</div>"
      ],
      "text/plain": [
       "                                                       TRANSACTION_AMT  \\\n",
       "CAND_PTY_AFFILIATION CAND_NAME                                           \n",
       "DEM                  BIDEN, JOSEPH R JR                       68111142   \n",
       "REP                  TRUMP, DONALD J.                         16594982   \n",
       "                     SULLIVAN, DAN                             9912465   \n",
       "                     JACOBS, CHRISTOPHER L.                    6939209   \n",
       "DEM                  BLOOMBERG, MICHAEL R.                     3451916   \n",
       "                     MARKEY, EDWARD J. SEN.                     606832   \n",
       "                     SHAHEEN, JEANNE                            505446   \n",
       "                     KENNEDY, JOSEPH P III                      467738   \n",
       "REP                  CORNYN, JOHN SEN                           345959   \n",
       "                     FIGLESTHALER, WILLIAM MATTHEW MD           258221   \n",
       "\n",
       "                                                      TRANS_CAND_PERCERNT  \n",
       "CAND_PTY_AFFILIATION CAND_NAME                                             \n",
       "DEM                  BIDEN, JOSEPH R JR                            63.54%  \n",
       "REP                  TRUMP, DONALD J.                              15.48%  \n",
       "                     SULLIVAN, DAN                                  9.25%  \n",
       "                     JACOBS, CHRISTOPHER L.                         6.47%  \n",
       "DEM                  BLOOMBERG, MICHAEL R.                          3.22%  \n",
       "                     MARKEY, EDWARD J. SEN.                         0.57%  \n",
       "                     SHAHEEN, JEANNE                                0.47%  \n",
       "                     KENNEDY, JOSEPH P III                          0.44%  \n",
       "REP                  CORNYN, JOHN SEN                               0.32%  \n",
       "                     FIGLESTHALER, WILLIAM MATTHEW MD               0.24%  "
      ]
     },
     "execution_count": 19,
     "metadata": {},
     "output_type": "execute_result"
    }
   ],
   "source": [
    "# 计算每个党派下总统候选人的所获得的捐款总额，然后排序，取前十位\n",
    "dk = c_itcont.groupby(['CAND_PTY_AFFILIATION','CAND_NAME']).sum().sort_values('TRANSACTION_AMT',ascending=False).head(10)\n",
    "dk['TRANS_CAND_PERCERNT']= (dk.TRANSACTION_AMT / dk.TRANSACTION_AMT.sum())\n",
    "dk['TRANS_CAND_PERCERNT']=dk['TRANS_CAND_PERCERNT'].apply(lambda x: format(x,'.2%'))\n",
    "dk"
   ]
  },
  {
   "cell_type": "code",
   "execution_count": 20,
   "metadata": {},
   "outputs": [
    {
     "data": {
      "text/html": [
       "<div>\n",
       "<style scoped>\n",
       "    .dataframe tbody tr th:only-of-type {\n",
       "        vertical-align: middle;\n",
       "    }\n",
       "\n",
       "    .dataframe tbody tr th {\n",
       "        vertical-align: top;\n",
       "    }\n",
       "\n",
       "    .dataframe thead tr th {\n",
       "        text-align: left;\n",
       "    }\n",
       "\n",
       "    .dataframe thead tr:last-of-type th {\n",
       "        text-align: right;\n",
       "    }\n",
       "</style>\n",
       "<table border=\"1\" class=\"dataframe\">\n",
       "  <thead>\n",
       "    <tr>\n",
       "      <th></th>\n",
       "      <th colspan=\"2\" halign=\"left\">TRANSACTION_AMT</th>\n",
       "    </tr>\n",
       "    <tr>\n",
       "      <th>CAND_NAME</th>\n",
       "      <th>BIDEN, JOSEPH R JR</th>\n",
       "      <th>TRUMP, DONALD J.</th>\n",
       "    </tr>\n",
       "    <tr>\n",
       "      <th>TRANSACTION_DT</th>\n",
       "      <th></th>\n",
       "      <th></th>\n",
       "    </tr>\n",
       "  </thead>\n",
       "  <tbody>\n",
       "    <tr>\n",
       "      <th>2020722</th>\n",
       "      <td>888622</td>\n",
       "      <td>330603</td>\n",
       "    </tr>\n",
       "    <tr>\n",
       "      <th>2020723</th>\n",
       "      <td>1852227</td>\n",
       "      <td>554920</td>\n",
       "    </tr>\n",
       "    <tr>\n",
       "      <th>2020724</th>\n",
       "      <td>3024292</td>\n",
       "      <td>828209</td>\n",
       "    </tr>\n",
       "    <tr>\n",
       "      <th>2020725</th>\n",
       "      <td>3943847</td>\n",
       "      <td>1035861</td>\n",
       "    </tr>\n",
       "    <tr>\n",
       "      <th>2020726</th>\n",
       "      <td>5052629</td>\n",
       "      <td>1529042</td>\n",
       "    </tr>\n",
       "  </tbody>\n",
       "</table>\n",
       "</div>"
      ],
      "text/plain": [
       "                  TRANSACTION_AMT                 \n",
       "CAND_NAME      BIDEN, JOSEPH R JR TRUMP, DONALD J.\n",
       "TRANSACTION_DT                                    \n",
       "2020722                    888622           330603\n",
       "2020723                   1852227           554920\n",
       "2020724                   3024292           828209\n",
       "2020725                   3943847          1035861\n",
       "2020726                   5052629          1529042"
      ]
     },
     "execution_count": 20,
     "metadata": {},
     "output_type": "execute_result"
    }
   ],
   "source": [
    "# 计算从2021.7.22起 拜登和特朗普所获累积捐款额\n",
    "dl= c_itcont[['CAND_NAME','TRANSACTION_DT','TRANSACTION_AMT']].loc[c_itcont.CAND_NAME.isin(['BIDEN, JOSEPH R JR','TRUMP, DONALD J.'])]\n",
    "dl = dl.groupby(['CAND_NAME','TRANSACTION_DT']).sum()\n",
    "dl = dl.unstack(0)\n",
    "dl = dl.cumsum()\n",
    "dl.head()"
   ]
  },
  {
   "cell_type": "code",
   "execution_count": 21,
   "metadata": {},
   "outputs": [
    {
     "data": {
      "text/plain": [
       "<matplotlib.legend.Legend at 0x7fd832c042e8>"
      ]
     },
     "execution_count": 21,
     "metadata": {},
     "output_type": "execute_result"
    },
    {
     "data": {
      "image/png": "[encoded data removed]",
      "text/plain": [
       "<Figure size 432x288 with 1 Axes>"
      ]
     },
     "metadata": {
      "needs_background": "light"
     },
     "output_type": "display_data"
    }
   ],
   "source": [
    "# 累积捐款额作图\n",
    "dl.plot()\n",
    "plt.xlabel('TRANSACTION_DT',loc='right')\n",
    "plt.ylabel('TRANSACTION_AMT',loc='top')\n",
    "plt.legend(['BIDEN','TRUMP'])"
   ]
  },
  {
   "cell_type": "markdown",
   "metadata": {},
   "source": [
    "#### 从候选人和党派角度分析，可以看出:\n",
    "1. DEM(民主党)的BIDEN和REP(共和党)的TRUMP所获捐款额分别位列第一、二位次，占总捐款额的63.54%，15.48%，且与排名之后的候选人差距较大\n",
    "2. 拜登获得的全款总额在2020.7.22-2020.8.20这一个月的统计周期内，达到特朗普所获捐款总额的4倍之多\n",
    "3. 趋势图表明从2020.7.22起两位候选人的总捐款数均以较为平缓的速率增长，拜登获得的捐款总额始终高于特朗普；2020.8.11形成拐点，拜登的捐款额增长率进一步增大，迅速和特兰普拉大差距"
   ]
  },
  {
   "cell_type": "markdown",
   "metadata": {},
   "source": [
    "### 3.2 捐款人角度"
   ]
  },
  {
   "cell_type": "code",
   "execution_count": null,
   "metadata": {},
   "outputs": [
    {
     "data": {
      "text/html": [
       "<div>\n",
       "<style scoped>\n",
       "    .dataframe tbody tr th:only-of-type {\n",
       "        vertical-align: middle;\n",
       "    }\n",
       "\n",
       "    .dataframe tbody tr th {\n",
       "        vertical-align: top;\n",
       "    }\n",
       "\n",
       "    .dataframe thead th {\n",
       "        text-align: right;\n",
       "    }\n",
       "</style>\n",
       "<table border=\"1\" class=\"dataframe\">\n",
       "  <thead>\n",
       "    <tr style=\"text-align: right;\">\n",
       "      <th></th>\n",
       "      <th>TRANSACTION_AMT</th>\n",
       "      <th>TRANSACTION_PERCENT</th>\n",
       "      <th>PEOPLE_AMT</th>\n",
       "      <th>PEOPLE_PERCENT</th>\n",
       "      <th>人均捐款</th>\n",
       "    </tr>\n",
       "    <tr>\n",
       "      <th>OCCUPATION</th>\n",
       "      <th></th>\n",
       "      <th></th>\n",
       "      <th></th>\n",
       "      <th></th>\n",
       "      <th></th>\n",
       "    </tr>\n",
       "  </thead>\n",
       "  <tbody>\n",
       "    <tr>\n",
       "      <th>NOT EMPLOYED</th>\n",
       "      <td>24676228</td>\n",
       "      <td>21.69%</td>\n",
       "      <td>225807</td>\n",
       "      <td>29.86%</td>\n",
       "      <td>109.3</td>\n",
       "    </tr>\n",
       "    <tr>\n",
       "      <th>RETIRED</th>\n",
       "      <td>19444347</td>\n",
       "      <td>17.09%</td>\n",
       "      <td>156591</td>\n",
       "      <td>20.71%</td>\n",
       "      <td>124.2</td>\n",
       "    </tr>\n",
       "    <tr>\n",
       "      <th>NOT PROVIDED</th>\n",
       "      <td>5078593</td>\n",
       "      <td>4.46%</td>\n",
       "      <td>14816</td>\n",
       "      <td>1.96%</td>\n",
       "      <td>342.8</td>\n",
       "    </tr>\n",
       "    <tr>\n",
       "      <th>ATTORNEY</th>\n",
       "      <td>4345104</td>\n",
       "      <td>3.82%</td>\n",
       "      <td>19297</td>\n",
       "      <td>2.55%</td>\n",
       "      <td>225.2</td>\n",
       "    </tr>\n",
       "    <tr>\n",
       "      <th>FOUNDER</th>\n",
       "      <td>3519109</td>\n",
       "      <td>3.09%</td>\n",
       "      <td>197</td>\n",
       "      <td>0.03%</td>\n",
       "      <td>17863.5</td>\n",
       "    </tr>\n",
       "    <tr>\n",
       "      <th>PHYSICIAN</th>\n",
       "      <td>3251369</td>\n",
       "      <td>2.86%</td>\n",
       "      <td>13864</td>\n",
       "      <td>1.83%</td>\n",
       "      <td>234.5</td>\n",
       "    </tr>\n",
       "    <tr>\n",
       "      <th>CONSULTANT</th>\n",
       "      <td>1636481</td>\n",
       "      <td>1.44%</td>\n",
       "      <td>8299</td>\n",
       "      <td>1.10%</td>\n",
       "      <td>197.2</td>\n",
       "    </tr>\n",
       "    <tr>\n",
       "      <th>LAWYER</th>\n",
       "      <td>1533666</td>\n",
       "      <td>1.35%</td>\n",
       "      <td>6328</td>\n",
       "      <td>0.84%</td>\n",
       "      <td>242.4</td>\n",
       "    </tr>\n",
       "    <tr>\n",
       "      <th>EXECUTIVE</th>\n",
       "      <td>1462990</td>\n",
       "      <td>1.29%</td>\n",
       "      <td>3052</td>\n",
       "      <td>0.40%</td>\n",
       "      <td>479.4</td>\n",
       "    </tr>\n",
       "    <tr>\n",
       "      <th>PROFESSOR</th>\n",
       "      <td>1448434</td>\n",
       "      <td>1.27%</td>\n",
       "      <td>7897</td>\n",
       "      <td>1.04%</td>\n",
       "      <td>183.4</td>\n",
       "    </tr>\n",
       "  </tbody>\n",
       "</table>\n",
       "</div>"
      ],
      "text/plain": [
       "              TRANSACTION_AMT TRANSACTION_PERCENT  PEOPLE_AMT PEOPLE_PERCENT  \\\n",
       "OCCUPATION                                                                     \n",
       "NOT EMPLOYED         24676228              21.69%      225807         29.86%   \n",
       "RETIRED              19444347              17.09%      156591         20.71%   \n",
       "NOT PROVIDED          5078593               4.46%       14816          1.96%   \n",
       "ATTORNEY              4345104               3.82%       19297          2.55%   \n",
       "FOUNDER               3519109               3.09%         197          0.03%   \n",
       "PHYSICIAN             3251369               2.86%       13864          1.83%   \n",
       "CONSULTANT            1636481               1.44%        8299          1.10%   \n",
       "LAWYER                1533666               1.35%        6328          0.84%   \n",
       "EXECUTIVE             1462990               1.29%        3052          0.40%   \n",
       "PROFESSOR             1448434               1.27%        7897          1.04%   \n",
       "\n",
       "                 人均捐款  \n",
       "OCCUPATION             \n",
       "NOT EMPLOYED    109.3  \n",
       "RETIRED         124.2  \n",
       "NOT PROVIDED    342.8  \n",
       "ATTORNEY        225.2  \n",
       "FOUNDER       17863.5  \n",
       "PHYSICIAN       234.5  \n",
       "CONSULTANT      197.2  \n",
       "LAWYER          242.4  \n",
       "EXECUTIVE       479.4  \n",
       "PROFESSOR       183.4  "
      ]
     },
     "execution_count": 22,
     "metadata": {},
     "output_type": "execute_result"
    }
   ],
   "source": [
    "import numpy as np\n",
    "# 查看不同职业的人捐款的总额及占比\n",
    "df = c_itcont.groupby('OCCUPATION').sum().sort_values('TRANSACTION_AMT',ascending=False)\n",
    "df['TRANSACTION_PERCENT']=df.TRANSACTION_AMT / df.TRANSACTION_AMT.sum()\n",
    "df['TRANSACTION_PERCENT'] = df['TRANSACTION_PERCENT'].apply(lambda x: format(x,'.2%'))\n",
    "# 查看每个职业捐款人的数量及占比\n",
    "df['PEOPLE_AMT'] = c_itcont.OCCUPATION.value_counts()\n",
    "df['PEOPLE_PERCENT']=df.PEOPLE_AMT / df.PEOPLE_AMT.sum()\n",
    "df['PEOPLE_PERCENT'] = df['PEOPLE_PERCENT'].apply(lambda x: format(x,'.2%'))\n",
    "# 计算每个职业的人均捐款\n",
    "df['人均捐款'] = round(df['TRANSACTION_AMT']/df['PEOPLE_AMT'],1)\n",
    "df.head(10)"
   ]
  },
  {
   "cell_type": "code",
   "execution_count": null,
   "metadata": {},
   "outputs": [
    {
     "data": {
      "image/png": "[encoded data removed]",
      "text/plain": [
       "<Figure size 432x288 with 1 Axes>"
      ]
     },
     "metadata": {
      "needs_background": "light"
     },
     "output_type": "display_data"
    },
    {
     "data": {
      "image/png": "[encoded data removed]",
      "text/plain": [
       "<Figure size 432x288 with 1 Axes>"
      ]
     },
     "metadata": {
      "needs_background": "light"
     },
     "output_type": "display_data"
    }
   ],
   "source": [
    "from matplotlib.ticker import FormatStrFormatter\n",
    "df['TRANSACTION_PERCENT']=df.TRANSACTION_AMT / df.TRANSACTION_AMT.sum() *100\n",
    "occu_t_amt = pd.DataFrame(df[:10],columns=['TRANSACTION_PERCENT'])\n",
    "occu_t_amt.plot(kind='bar')\n",
    "plt.gca().yaxis.set_major_formatter(FormatStrFormatter('%.1f%%'))\n",
    "df['PEOPLE_PERCENT']=df.PEOPLE_AMT / df.PEOPLE_AMT.sum() *100\n",
    "occu_p_amt = pd.DataFrame(df[:10],columns=['PEOPLE_PERCENT'])\n",
    "occu_p_amt.plot(kind='bar')\n",
    "plt.gca().yaxis.set_major_formatter(FormatStrFormatter('%.1f%%'))\n",
    "  \n",
    "plt.show()"
   ]
  },
  {
   "cell_type": "markdown",
   "metadata": {},
   "source": [
    "#### 从捐款人角度分析，可以看出:\n",
    "1. 由于‘NOT EMPLOYED’和'RETIRED'的捐款人数相较于其他职业大了一个数量级，因此这两种职业（‘非就业’和‘退休’）的捐款人的捐款总额也较大，分别位列一,二位，分别占所有捐款数的37,17%,29.29%,仅这两部分已占越2/3的捐款数，\n",
    "2. 在其他职业中，‘ATTORNEY’(律师)，‘FOUNDER(创始人)’，‘PHYSICIAN’(医生)捐款总额依次递减，这些高薪人才虽然人数较少，但捐款总金额也占据了很大的比例。\n",
    "3. 其中创始人的人均捐款数在所有职业中最大，达到17863.5"
   ]
  },
  {
   "cell_type": "markdown",
   "metadata": {},
   "source": [
    "### 3.3 州角度"
   ]
  },
  {
   "cell_type": "code",
   "execution_count": null,
   "metadata": {},
   "outputs": [
    {
     "data": {
      "text/html": [
       "<div>\n",
       "<style scoped>\n",
       "    .dataframe tbody tr th:only-of-type {\n",
       "        vertical-align: middle;\n",
       "    }\n",
       "\n",
       "    .dataframe tbody tr th {\n",
       "        vertical-align: top;\n",
       "    }\n",
       "\n",
       "    .dataframe thead th {\n",
       "        text-align: right;\n",
       "    }\n",
       "</style>\n",
       "<table border=\"1\" class=\"dataframe\">\n",
       "  <thead>\n",
       "    <tr style=\"text-align: right;\">\n",
       "      <th></th>\n",
       "      <th>TRANSACTION_AMT</th>\n",
       "      <th>TRANSACTION_PERECENT</th>\n",
       "      <th>PEOPLE_AMOUNT</th>\n",
       "      <th>PEOPLE_PERECENT</th>\n",
       "      <th>人均捐款</th>\n",
       "    </tr>\n",
       "    <tr>\n",
       "      <th>STATE</th>\n",
       "      <th></th>\n",
       "      <th></th>\n",
       "      <th></th>\n",
       "      <th></th>\n",
       "      <th></th>\n",
       "    </tr>\n",
       "  </thead>\n",
       "  <tbody>\n",
       "    <tr>\n",
       "      <th>CA</th>\n",
       "      <td>19999115</td>\n",
       "      <td>17.58%</td>\n",
       "      <td>127895</td>\n",
       "      <td>16.91%</td>\n",
       "      <td>156.4</td>\n",
       "    </tr>\n",
       "    <tr>\n",
       "      <th>NY</th>\n",
       "      <td>11468537</td>\n",
       "      <td>10.08%</td>\n",
       "      <td>49453</td>\n",
       "      <td>6.54%</td>\n",
       "      <td>231.9</td>\n",
       "    </tr>\n",
       "    <tr>\n",
       "      <th>FL</th>\n",
       "      <td>8128789</td>\n",
       "      <td>7.15%</td>\n",
       "      <td>54343</td>\n",
       "      <td>7.19%</td>\n",
       "      <td>149.6</td>\n",
       "    </tr>\n",
       "    <tr>\n",
       "      <th>TX</th>\n",
       "      <td>8101871</td>\n",
       "      <td>7.12%</td>\n",
       "      <td>54457</td>\n",
       "      <td>7.20%</td>\n",
       "      <td>148.8</td>\n",
       "    </tr>\n",
       "    <tr>\n",
       "      <th>MA</th>\n",
       "      <td>5187957</td>\n",
       "      <td>4.56%</td>\n",
       "      <td>29314</td>\n",
       "      <td>3.88%</td>\n",
       "      <td>177.0</td>\n",
       "    </tr>\n",
       "  </tbody>\n",
       "</table>\n",
       "</div>"
      ],
      "text/plain": [
       "       TRANSACTION_AMT TRANSACTION_PERECENT  PEOPLE_AMOUNT PEOPLE_PERECENT  \\\n",
       "STATE                                                                        \n",
       "CA            19999115               17.58%         127895          16.91%   \n",
       "NY            11468537               10.08%          49453           6.54%   \n",
       "FL             8128789                7.15%          54343           7.19%   \n",
       "TX             8101871                7.12%          54457           7.20%   \n",
       "MA             5187957                4.56%          29314           3.88%   \n",
       "\n",
       "        人均捐款  \n",
       "STATE         \n",
       "CA     156.4  \n",
       "NY     231.9  \n",
       "FL     149.6  \n",
       "TX     148.8  \n",
       "MA     177.0  "
      ]
     },
     "execution_count": 24,
     "metadata": {},
     "output_type": "execute_result"
    }
   ],
   "source": [
    "# 每个州获捐款的总额，然后排序，取前五位\n",
    "dg = c_itcont.groupby('STATE').sum() \n",
    "dg['TRANSACTION_PERECENT'] = dg['TRANSACTION_AMT']/dg['TRANSACTION_AMT'].sum()\n",
    "dg['TRANSACTION_PERECENT'] = dg['TRANSACTION_PERECENT'].apply(lambda x: format(x,'.2%'))\n",
    "# 查看每个州捐款人的数量\n",
    "dg['PEOPLE_AMOUNT'] = c_itcont.groupby('STATE')['NAME'].count()\n",
    "dg['PEOPLE_PERECENT'] = dg['PEOPLE_AMOUNT']/dg['PEOPLE_AMOUNT'].sum()\n",
    "dg['PEOPLE_PERECENT'] = dg['PEOPLE_PERECENT'].apply(lambda x: format(x,'.2%'))\n",
    "# 计算每个州的人均捐款\n",
    "dg['人均捐款'] = round(dg['TRANSACTION_AMT']/dg['PEOPLE_AMOUNT'],1)\n",
    "dg = dg.sort_values('TRANSACTION_AMT',ascending = False)\n",
    "dg.head()"
   ]
  },
  {
   "cell_type": "code",
   "execution_count": null,
   "metadata": {},
   "outputs": [
    {
     "data": {
      "image/png": "[encoded data removed]",
      "text/plain": [
       "<Figure size 432x288 with 1 Axes>"
      ]
     },
     "metadata": {
      "needs_background": "light"
     },
     "output_type": "display_data"
    },
    {
     "data": {
      "image/png": "[encoded data removed]",
      "text/plain": [
       "<Figure size 432x288 with 1 Axes>"
      ]
     },
     "metadata": {
      "needs_background": "light"
     },
     "output_type": "display_data"
    }
   ],
   "source": [
    "dg['TRANSACTION_PERCENT'] = (dg.TRANSACTION_AMT/dg.TRANSACTION_AMT.sum()) * 100\n",
    "st_t_amt = pd.DataFrame(dg[:10],columns=['TRANSACTION_PERCENT'])\n",
    "st_t_amt.plot(kind='bar')\n",
    "plt.gca().yaxis.set_major_formatter(FormatStrFormatter('%.1f%%'))\n",
    "\n",
    "dg['PEOPLE_PERCENT'] = (dg.PEOPLE_AMOUNT/dg.PEOPLE_AMOUNT.sum()) * 100\n",
    "st_p_amt = pd.DataFrame(dg[:10],columns=['PEOPLE_PERCENT'])\n",
    "st_p_amt.plot(kind='bar')\n",
    "plt.gca().yaxis.set_major_formatter(FormatStrFormatter('%.1f%%'))\n",
    "\n",
    "plt.show()"
   ]
  },
  {
   "cell_type": "code",
   "execution_count": null,
   "metadata": {},
   "outputs": [
    {
     "data": {
      "text/html": [
       "<div>\n",
       "<style scoped>\n",
       "    .dataframe tbody tr th:only-of-type {\n",
       "        vertical-align: middle;\n",
       "    }\n",
       "\n",
       "    .dataframe tbody tr th {\n",
       "        vertical-align: top;\n",
       "    }\n",
       "\n",
       "    .dataframe thead th {\n",
       "        text-align: right;\n",
       "    }\n",
       "</style>\n",
       "<table border=\"1\" class=\"dataframe\">\n",
       "  <thead>\n",
       "    <tr style=\"text-align: right;\">\n",
       "      <th>STATE</th>\n",
       "      <th>CA</th>\n",
       "      <th>FL</th>\n",
       "      <th>NY</th>\n",
       "      <th>TX</th>\n",
       "    </tr>\n",
       "    <tr>\n",
       "      <th>OCCUPATION</th>\n",
       "      <th></th>\n",
       "      <th></th>\n",
       "      <th></th>\n",
       "      <th></th>\n",
       "    </tr>\n",
       "  </thead>\n",
       "  <tbody>\n",
       "    <tr>\n",
       "      <th>ATTORNEY</th>\n",
       "      <td>3432</td>\n",
       "      <td>1077</td>\n",
       "      <td>2082</td>\n",
       "      <td>1370</td>\n",
       "    </tr>\n",
       "    <tr>\n",
       "      <th>CONSULTANT</th>\n",
       "      <td>1369</td>\n",
       "      <td>444</td>\n",
       "      <td>573</td>\n",
       "      <td>452</td>\n",
       "    </tr>\n",
       "    <tr>\n",
       "      <th>EXECUTIVE</th>\n",
       "      <td>639</td>\n",
       "      <td>220</td>\n",
       "      <td>303</td>\n",
       "      <td>200</td>\n",
       "    </tr>\n",
       "    <tr>\n",
       "      <th>FOUNDER</th>\n",
       "      <td>64</td>\n",
       "      <td>12</td>\n",
       "      <td>22</td>\n",
       "      <td>5</td>\n",
       "    </tr>\n",
       "    <tr>\n",
       "      <th>LAWYER</th>\n",
       "      <td>1007</td>\n",
       "      <td>327</td>\n",
       "      <td>904</td>\n",
       "      <td>325</td>\n",
       "    </tr>\n",
       "    <tr>\n",
       "      <th>PHYSICIAN</th>\n",
       "      <td>1814</td>\n",
       "      <td>918</td>\n",
       "      <td>927</td>\n",
       "      <td>883</td>\n",
       "    </tr>\n",
       "    <tr>\n",
       "      <th>PROFESSOR</th>\n",
       "      <td>1174</td>\n",
       "      <td>304</td>\n",
       "      <td>851</td>\n",
       "      <td>387</td>\n",
       "    </tr>\n",
       "  </tbody>\n",
       "</table>\n",
       "</div>"
      ],
      "text/plain": [
       "STATE         CA    FL    NY    TX\n",
       "OCCUPATION                        \n",
       "ATTORNEY    3432  1077  2082  1370\n",
       "CONSULTANT  1369   444   573   452\n",
       "EXECUTIVE    639   220   303   200\n",
       "FOUNDER       64    12    22     5\n",
       "LAWYER      1007   327   904   325\n",
       "PHYSICIAN   1814   918   927   883\n",
       "PROFESSOR   1174   304   851   387"
      ]
     },
     "execution_count": 26,
     "metadata": {},
     "output_type": "execute_result"
    }
   ],
   "source": [
    "# 不同state的occupation分布\n",
    "cond = 'OCCUPATION in [\"ATTORNEY\",\"FOUNDER\",\"PHYSICIAN\",\"CONSULTANT\",\"LAWYER\",\"PROFESSOR\",\"EXECUTIVE\"] and STATE in [\"CA\",\"NY\",\"FL\",\"TX\"]'\n",
    "dh = c_itcont.query(cond)\n",
    "dh = dh.groupby(['STATE','OCCUPATION'])['NAME'].count()\n",
    "dh = dh.unstack().head()\n",
    "dh = dh.T\n",
    "dh"
   ]
  },
  {
   "cell_type": "code",
   "execution_count": null,
   "metadata": {},
   "outputs": [
    {
     "data": {
      "text/plain": [
       "<matplotlib.legend.Legend at 0x7f9293d44eb8>"
      ]
     },
     "execution_count": 27,
     "metadata": {},
     "output_type": "execute_result"
    },
    {
     "data": {
      "image/png": "[encoded data removed]",
      "text/plain": [
       "<Figure size 432x288 with 1 Axes>"
      ]
     },
     "metadata": {
      "needs_background": "light"
     },
     "output_type": "display_data"
    }
   ],
   "source": [
    "dh.plot(kind='bar')\n",
    "plt.legend(['CA','FL','NY','TX'])"
   ]
  },
  {
   "cell_type": "code",
   "execution_count": null,
   "metadata": {},
   "outputs": [
    {
     "data": {
      "text/plain": [
       "array([<AxesSubplot:ylabel='TRANSACTION_AMT'>], dtype=object)"
      ]
     },
     "execution_count": 28,
     "metadata": {},
     "output_type": "execute_result"
    },
    {
     "data": {
      "image/png": "[encoded data removed]",
      "text/plain": [
       "<Figure size 576x576 with 1 Axes>"
      ]
     },
     "metadata": {},
     "output_type": "display_data"
    }
   ],
   "source": [
    "# 从所有数据中取出支持拜登的数据\n",
    "biden = c_itcont[c_itcont['CAND_NAME']=='BIDEN, JOSEPH R JR']\n",
    "# 统计各州对拜登的捐款总数\n",
    "biden_state = biden.groupby('STATE').sum().sort_values(\"TRANSACTION_AMT\", ascending=False).head(10)\n",
    "biden_state\n",
    "# 饼图可视化各州捐款数据占比\n",
    "biden_state.plot(kind='pie',figsize=(8, 8),subplots=True,autopct = '%0.1f%%' )"
   ]
  },
  {
   "cell_type": "markdown",
   "metadata": {},
   "source": [
    "参数X：\n",
    "a. 如果 sum(X) ≤ 1，X 中的值直接指定饼图扇区的面积。如果 sum(X) < 1，pie 仅绘制部分饼图。\n",
    "b. 如果 sum(X) > 1，则 pie 通过 X/sum(X) 对值进行归一化，以确定饼图的每个扇区的面积。\n",
    "参数autopct，展示比数值，可取值：\n",
    "a. %d%%：整数百分比;\n",
    "b. %0.1f：一位小数；\n",
    "c. %0.1f%%：一位小数百分比；\n",
    "d. %0.2f%%：两位小数百分比\n",
    "参数 labels，在颜色块旁边展示细节内容\n",
    "参数explode，偏移扇区：使用0/1标示需要偏移的扇区，要求长度和X一致，即X所有元素都要进行标示，且顺序要对应"
   ]
  },
  {
   "cell_type": "markdown",
   "metadata": {},
   "source": [
    "#### 从州角度分析，可以看出：\n",
    "1. CA的捐款总额和捐款人数都是遥遥领先，独为第一阶梯，第二阶梯包括NY,FL,TX和后面其他州也形成一定差距，可见其经济水平较高；\n",
    "2. CA,NY,FL,TX这些州内高薪人才的数量也非常多,其中人均捐款最多的职业“创始人”单在CA州就有64个人，约占创始人总人数的1/3\n",
    "3. 饼图可以看出不同州对拜登捐款数的贡献占比，其中CA,NY的捐款比例较大，剩余州的捐款总数差距不大"
   ]
  },
  {
   "cell_type": "markdown",
   "metadata": {},
   "source": [
    "## 4. 收获和思考\n"
   ]
  },
  {
   "cell_type": "markdown",
   "metadata": {},
   "source": [
    "1. 数据分析时要根据业务逻辑对数据进行预处理，处理过程细致，且具体指标需要根据实际业务情况进行具体分析\n",
    "2. 针对数据作图时，要根据分析的目标选择合适的图表类型，如展示曲线变化：折线图等；展示分布关系：小提琴图，箱体图等；展示相关关系：散点图、热力图等；展示排序信息：散点图等；展示组成关系：饼图等"
   ]
  }
 ],
 "metadata": {
  "kernelspec": {
   "display_name": "Python 3",
   "language": "python",
   "name": "python3"
  },
  "language_info": {
   "codemirror_mode": {
    "name": "ipython",
    "version": 3
   },
   "file_extension": ".py",
   "mimetype": "text/x-python",
   "name": "python",
   "nbconvert_exporter": "python",
   "pygments_lexer": "ipython3",
   "version": "3.6.5"
  },
  "tianchi_metadata": {
   "competitions": [],
   "datasets": [
    {
     "id": "79448",
     "title": "获取数据集标题失败"
    },
    {
     "id": "79412",
     "title": "2020_US_President_political_contributions"
    }
   ],
   "description": "",
   "notebookId": "232569",
   "source": "dsw"
  }
 },
 "nbformat": 4,
 "nbformat_minor": 4
}
